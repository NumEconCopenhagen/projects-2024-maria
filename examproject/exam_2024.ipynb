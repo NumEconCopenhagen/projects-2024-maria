{
 "cells": [
  {
   "cell_type": "markdown",
   "metadata": {},
   "source": [
    "**Table of contents**<a id='toc0_'></a>    \n",
    "- 1. [Problem 1: Production economy and CO2 taxation](#toc1_)    \n",
    "- 2. [Problem 2: Career choice model](#toc2_)    \n",
    "- 3. [Problem 3: Barycentric interpolation](#toc3_)    \n",
    "\n",
    "<!-- vscode-jupyter-toc-config\n",
    "\tnumbering=true\n",
    "\tanchor=true\n",
    "\tflat=false\n",
    "\tminLevel=2\n",
    "\tmaxLevel=6\n",
    "\t/vscode-jupyter-toc-config -->\n",
    "<!-- THIS CELL WILL BE REPLACED ON TOC UPDATE. DO NOT WRITE YOUR TEXT IN THIS CELL -->"
   ]
  },
  {
   "cell_type": "code",
   "execution_count": 1,
   "metadata": {},
   "outputs": [],
   "source": [
    "# Imports\n",
    "import numpy as np\n",
    "from types import SimpleNamespace\n",
    "from scipy import optimize\n",
    "import matplotlib.pyplot as plt\n",
    "\n",
    "# Presets for figures\n",
    "plt.rcParams.update({\"axes.grid\":True,\"grid.color\":\"black\",\"grid.alpha\":\"0.25\",\"grid.linestyle\":\"-\"})\n",
    "plt.rcParams.update({'font.size': 14})\n",
    "\n",
    "# Autoreload modules when code is run\n",
    "%load_ext autoreload\n",
    "%autoreload 2"
   ]
  },
  {
   "cell_type": "markdown",
   "metadata": {},
   "source": [
    "## 1. <a id='toc1_'></a>[Problem 1: Production economy and CO2 taxation](#toc0_)"
   ]
  },
  {
   "cell_type": "markdown",
   "metadata": {},
   "source": [
    "Consider a production economy with two firms indexed by $j \\in \\{1,2\\}$. Each produce its own good. They solve\n",
    "\n",
    "$$\n",
    "\\begin{align*}\n",
    "\\max_{y_{j}}\\pi_{j}&=p_{j}y_{j}-w_{j}\\ell_{j}\\\\\\text{s.t.}\\;&y_{j}=A\\ell_{j}^{\\gamma}.\n",
    "\\end{align*}\n",
    "$$\n",
    "\n",
    "Optimal firm behavior is\n",
    "\n",
    "$$\n",
    "\\begin{align*}\n",
    "\\ell_{j}^{\\star}(w,p_{j})&=\\left(\\frac{p_{j}A\\gamma}{w}\\right)^{\\frac{1}{1-\\gamma}} \\\\\n",
    "y_{j}^{\\star}(w,p_{j})&=A\\left(\\ell_{j}^{\\star}(w,p_{j})\\right)^{\\gamma}\n",
    "\\end{align*}\n",
    "$$\n",
    "\n",
    "The implied profits are\n",
    "\n",
    "$$\n",
    "\\pi_{j}^*(w,p_{j})=\\frac{1-\\gamma}{\\gamma}w\\cdot\\left(\\frac{p_{j}A\\gamma}{w}\\right)^{\\frac{1}{1-\\gamma}}\n",
    "$$\n",
    "\n",
    "A single consumer supplies labor, and consumes the goods the firms produce. She also recieves the implied profits of the firm.<br>\n",
    "She solves:\n",
    "\n",
    "$$\n",
    "\\begin{align*}\n",
    "U(p_1,p_2,w,\\tau,T) = \\max_{c_{1},c_{2},\\ell} & \\log(c_{1}^{\\alpha}c_{2}^{1-\\alpha})-\\nu\\frac{\\ell^{1+\\epsilon}}{1+\\epsilon} \\\\\n",
    "\\text{s.t.}\\,\\,\\,&p_{1}c_{1}+(p_{2}+\\tau)c_{2}=w\\ell+T+\\pi_{1}^*(w,p_{1})+\\pi_{2}^*(w,p_{2})\n",
    "\\end{align*}\n",
    "$$\n",
    "\n",
    "where $\\tau$ is a tax and $T$ is lump-sum transfer. <br>\n",
    "For a given $\\ell$, it can be shown that optimal behavior is\n",
    "\n",
    "$$\n",
    "\\begin{align*}\n",
    "c_{1}(\\ell)&=\\alpha\\frac{w\\ell+T+\\pi_{1}^*(w,p_{1})+\\pi_{2}^*(w,p_{2})}{p_{1}} \\\\\n",
    "c_{2}(\\ell)&=(1-\\alpha)\\frac{w\\ell+T+\\pi_{1}^*(w,p_{1})+\\pi_{2}^*(w,p_{2})}{p_{2}+\\tau} \\\\\n",
    "\\end{align*}\n",
    "$$\n",
    "Such that optimal behavior is:\n",
    "$$\n",
    "\\ell^* = \\underset{\\ell}{\\arg\\max} \\log(\\left(c_{1}(\\ell)\\right)^{\\alpha}\\cdot \\left(c_{2}(\\ell)\\right)^{1-\\alpha})-\\nu\\frac{\\ell^{1+\\epsilon}}{1+\\epsilon} \n",
    "$$\n",
    "With optimal consumption:\n",
    "$$\n",
    "\\begin{align*}\n",
    "c_1^*=c_{1}(\\ell^*) \\\\\n",
    "c_2^*=c_{2}(\\ell^*)\\\\\n",
    "\\end{align*}\n",
    "$$\n",
    "\n",
    "\n",
    "The government chooses $\\tau$ and balances its budget so $T=\\tau c_2^*$. We initially set $\\tau,T=0$.\n",
    "\n",
    "Market clearing requires:\n",
    "\n",
    "1. Labor market: $\\ell^* = \\ell_1^* + \\ell_2^*$\n",
    "1. Good market 1: $c_1^* = y_1^*$\n",
    "1. Good market 2: $c_2^* = y_2^*$\n"
   ]
  },
  {
   "cell_type": "markdown",
   "metadata": {},
   "source": [
    "**Question 1:** Check market clearing conditions for $p_1$ in `linspace(0.1,2.0,10)` and $p_2$ in `linspace(0.1,2.0,10)`. We choose $w=1$ as numeraire."
   ]
  },
  {
   "cell_type": "code",
   "execution_count": 2,
   "metadata": {},
   "outputs": [],
   "source": [
    "par = SimpleNamespace()\n",
    "\n",
    "# firms\n",
    "par.A = 1.0\n",
    "par.gamma = 0.5\n",
    "\n",
    "# households\n",
    "par.alpha = 0.3\n",
    "par.nu = 1.0\n",
    "par.epsilon = 2.0\n",
    "\n",
    "# government\n",
    "#par.tau = 0.0\n",
    "#par.T = 0.0\n",
    "\n",
    "# Question 3\n",
    "par.kappa = 0.1"
   ]
  },
  {
   "cell_type": "markdown",
   "metadata": {},
   "source": [
    "We create a class for the economy and load an instance of said class."
   ]
  },
  {
   "cell_type": "code",
   "execution_count": null,
   "metadata": {},
   "outputs": [],
   "source": [
    "#import production economy class from python file\n",
    "from exam_2024 import production_economy\n",
    "\n",
    "#create instance of production economy\n",
    "model = production_economy(par)"
   ]
  },
  {
   "cell_type": "code",
   "execution_count": null,
   "metadata": {},
   "outputs": [],
   "source": [
    "#function checking if the market clearing conditions hold\n",
    "def clear_check(model,p1,p2):\n",
    "    #firms\n",
    "    l1,y1 = model.opt_firm(p1)\n",
    "    l2,y2 = model.opt_firm(p2)\n",
    "\n",
    "    #consumers\n",
    "    l = model.opt_ls(p1,p2, 0, 0)\n",
    "    c1, c2 = model.opt_cb(l, p1, p2, 0, 0)\n",
    "\n",
    "    return l == l1+l2 and c1 == y1 and c2 == y2 \n",
    "\n",
    "#empty list to store results\n",
    "clearing = []\n",
    "\n",
    "#loop over possible p1 and p2\n",
    "for p1 in np.linspace(0.1,2.0,10):\n",
    "    for p2 in np.linspace (0.1,2.0,10):\n",
    "        check = clear_check(model, p1, p2)\n",
    "        if check == True:\n",
    "            clearing.append((p1,p2))\n",
    "\n",
    "print(clearing)"
   ]
  },
  {
   "cell_type": "markdown",
   "metadata": {},
   "source": [
    "**Question 2:** Find the equilibrium prices $p_1$ and $p_2$.<br>\n",
    "*Hint: you can use Walras' law to only check 2 of the market clearings*"
   ]
  },
  {
   "cell_type": "code",
   "execution_count": null,
   "metadata": {},
   "outputs": [],
   "source": [
    "model.EQ(0,0)\n"
   ]
  },
  {
   "cell_type": "markdown",
   "metadata": {},
   "source": [
    "Assume the government care about the social welfare function:\n",
    "\n",
    "$$\n",
    "SWF = U - \\kappa y_2^*\n",
    "$$"
   ]
  },
  {
   "cell_type": "markdown",
   "metadata": {},
   "source": [
    "Here $\\kappa$ measures the social cost of carbon emitted by the production of $y_2$ in equilibrium."
   ]
  },
  {
   "cell_type": "markdown",
   "metadata": {},
   "source": [
    "**Question 3:** What values of $\\tau$ and (implied) $T$ should the government choose to maximize $SWF$?"
   ]
  },
  {
   "cell_type": "code",
   "execution_count": null,
   "metadata": {},
   "outputs": [],
   "source": [
    "model.clear_SWF_con((1,2), 0)\n",
    "test = production_economy(par)\n",
    "\n",
    "test.SWF_objective(0)"
   ]
  },
  {
   "cell_type": "code",
   "execution_count": null,
   "metadata": {},
   "outputs": [],
   "source": [
    "x0 = 0.1\n",
    "sol = optimize.minimize(test.SWF_objective, x0 ,method='SLSQP')\n",
    "print(sol)"
   ]
  },
  {
   "cell_type": "code",
   "execution_count": null,
   "metadata": {},
   "outputs": [],
   "source": [
    "tau = sol.x\n",
    "p1, p2, T = test.SWF_obj(tau)\n",
    "l = test.opt_ls(p1, p2, T, tau)\n",
    "c1, c2 = test.opt_cb(l, p1, p2, T, tau)\n",
    "y1 = test.opt_firm(p1)[1]\n",
    "y2 = test.opt_firm(p2)[1]\n",
    "\n",
    "sanity = c2*tau\n",
    "print(p1,p2,T,sanity,c1, y1, c2,y2)"
   ]
  },
  {
   "cell_type": "code",
   "execution_count": null,
   "metadata": {},
   "outputs": [],
   "source": [
    "# write your answer here\n",
    "\n",
    "# # Grid search\n",
    "# taus = np.linspace(0,1,10)\n",
    "# Ts = np.linspace(0,1,10)\n",
    "# max = -np.inf\n",
    "\n",
    "# for tau in taus:\n",
    "#     for T in Ts:\n",
    "#         SWF_econ_grid = production_economy(par, tau, T)\n",
    "#         point = SWF_econ_grid.SWF_obj((tau,T))\n",
    "#         if(point>max):\n",
    "#             max = point\n",
    "\n",
    "\n",
    "\n",
    "\n",
    "# SWF_econ = production_economy(par, 0.1, 0.1)\n",
    "\n",
    "# # Real solver\n",
    "# SWF_econ.SWF_solve()\n",
    "\n",
    "\n",
    "    \n",
    "\n",
    "\n",
    "    \n",
    "\n",
    "\n",
    "\n",
    "\n"
   ]
  },
  {
   "cell_type": "markdown",
   "metadata": {},
   "source": [
    "## 2. <a id='toc2_'></a>[Problem 2: Career choice model](#toc0_)"
   ]
  },
  {
   "cell_type": "markdown",
   "metadata": {},
   "source": [
    "Consider a graduate $i$ making a choice between entering $J$ different career tracks. <br>\n",
    "Entering career $j$ yields utility $u^k_{ij}$. This value is unknown to the graduate ex ante, but will ex post be: <br>\n",
    "$$\n",
    "    u_{i,j}^k = v_{j} + \\epsilon_{i,j}^k\n",
    "$$\n",
    "\n",
    "They know that $\\epsilon^k_{i,j}\\sim \\mathcal{N}(0,\\sigma^2)$, but they do not observe $\\epsilon^k_{i,j}$ before making their career choice. <br>"
   ]
  },
  {
   "cell_type": "markdown",
   "metadata": {},
   "source": [
    "Consider the concrete case of $J=3$ with:\n",
    "$$\n",
    "\\begin{align*}\n",
    "    v_{1} &= 1 \\\\\n",
    "    v_{2} &= 2 \\\\\n",
    "    v_{3} &= 3\n",
    "\\end{align*}\n",
    "$$"
   ]
  },
  {
   "cell_type": "markdown",
   "metadata": {},
   "source": [
    "If the graduates know the values of $v_j$ and the distribution of $\\epsilon_{i,j}^k$, they can calculate the expected utility of each career track using simulation: <br>\n",
    "$$\n",
    "    \\mathbb{E}\\left[ u^k_{i,j}\\vert v_j \\right] \\approx v_j + \\frac{1}{K}\\sum_{k=1}^K \\epsilon_{i,j}^k\n",
    "$$"
   ]
  },
  {
   "cell_type": "code",
   "execution_count": null,
   "metadata": {},
   "outputs": [],
   "source": [
    "par = SimpleNamespace()\n",
    "par.J = 3\n",
    "par.N = 10\n",
    "par.K = 10000\n",
    "\n",
    "par.F = np.arange(1,par.N+1)\n",
    "par.sigma = 2\n",
    "\n",
    "par.v = np.array([1,2,3])\n",
    "par.c = 1"
   ]
  },
  {
   "cell_type": "markdown",
   "metadata": {},
   "source": [
    "**Question 1:** Simulate and calculate expected utility and the average realised utility for $K=10000$ draws, for each career choice $j$.\n"
   ]
  },
  {
   "cell_type": "markdown",
   "metadata": {},
   "source": [
    "We draw the noise term K times for each career and calculate the realized utility for each of those draws. Then we sum accros all the draws for each career to find the average realized utility. Since K is large, we expect the average realised utility to be close to the expected utility. "
   ]
  },
  {
   "cell_type": "code",
   "execution_count": null,
   "metadata": {},
   "outputs": [],
   "source": [
    "#draw noise terms for each career\n",
    "np.random.seed(6969)\n",
    "eps_draws = np.random.normal(loc=0,scale=par.sigma,size=(par.K,par.J))\n",
    "\n",
    "#average utility\n",
    "avg_u = par.v+1/par.K*sum(eps_draws)\n",
    "print(f'The average realized utility for each career is: u1: {avg_u[0]:.3f}, u2: {avg_u[1]:.3f} and u3 {avg_u[2]:.3f}')"
   ]
  },
  {
   "cell_type": "markdown",
   "metadata": {},
   "source": [
    "This is very close to the expected utility of each career: $\\mathbb{E}\\left[ u_1 \\right] = 1$, $\\mathbb{E}\\left[ u_2 \\right] = 2$ and $\\mathbb{E}\\left[ u_3 \\right] = 3$."
   ]
  },
  {
   "cell_type": "markdown",
   "metadata": {},
   "source": [
    "Now consider a new scenario: Imagine that the graduate does not know $v_j$. The *only* prior information they have on the value of each job, comes from their $F_{i}$ friends that work in each career $j$. After talking with them, they know the average utility of their friends (which includes their friends' noise term), giving them the prior expecation: <br>\n",
    "$$\n",
    "\\tilde{u}^k_{i,j}\\left( F_{i}\\right) = \\frac{1}{F_{i}}\\sum_{f=1}^{F_{i}} \\left(v_{j} + \\epsilon^k_{f,j}\\right), \\; \\epsilon^k_{f,j}\\sim \\mathcal{N}(0,\\sigma^2)\n",
    "$$\n",
    "For ease of notation consider that each graduate have $F_{i}=i$ friends in each career. <br>"
   ]
  },
  {
   "cell_type": "markdown",
   "metadata": {},
   "source": [
    "For $K$ times do the following: <br>\n",
    "1. For each person $i$ draw $J\\cdot F_i$ values of $\\epsilon_{f,j}^{k}$, and calculate the prior expected utility of each career track, $\\tilde{u}^k_{i,j}\\left( F_{i}\\right)$. <br>\n",
    "Also draw their own $J$ noise terms, $\\epsilon_{i,j}^k$\n",
    "1. Each person $i$ chooses the career track with the highest expected utility: $$j_i^{k*}= \\arg\\max_{j\\in{1,2\\dots,J}}\\left\\{ \\tilde{u}^k_{i,j}\\left( F_{i}\\right)\\right\\} $$\n",
    "1. Store the chosen careers: $j_i^{k*}$, the prior expectation of the value of their chosen career: $\\tilde{u}^k_{i,j=j_i^{k*}}\\left( F_{i}\\right)$, and the realized value of their chosen career track: $u^k_{i,j=j_i^{k*}}=v_{j=j_i^{k*}}+\\epsilon_{i,j=j_i^{k*}}^k$."
   ]
  },
  {
   "cell_type": "markdown",
   "metadata": {},
   "source": [
    "Chosen values will be: <br>\n",
    "$i\\in\\left\\{1,2\\dots,N\\right\\}, N=10$ <br>\n",
    "$F_i = i$<br>\n",
    "So there are 10 graduates. The first has 1 friend in each career, the second has 2 friends, ... the tenth has 10 friends."
   ]
  },
  {
   "cell_type": "markdown",
   "metadata": {},
   "source": [
    "**Question 2:** Simulate and visualize: For each type of graduate, $i$, the share of graduates choosing each career, the average subjective expected utility of the graduates, and the average ex post realized utility given their choice. <br>\n",
    "That is, calculate and visualize: <br>\n",
    "$$\n",
    "\\begin{align*}\n",
    "    \\frac{1}{K} \\sum_{k=1}^{K} \\mathbb{I}\\left\\{ j=j_i^{k*} \\right\\}  \\;\\forall j\\in\\left\\{1,2,\\dots,J\\right\\}\n",
    "\\end{align*}\n",
    "$$\n",
    "$$\n",
    "\\begin{align*}\n",
    "    \\frac{1}{K} \\sum_{k=1}^{K} \\tilde{u}^k_{ij=j_i^{k*}}\\left( F_{i}\\right)\n",
    "\\end{align*}\n",
    "$$\n",
    "And \n",
    "$$\n",
    "\\begin{align*}\n",
    "    \\frac{1}{K} \\sum_{k=1}^{K} u^k_{ij=j_i^{k*}} \n",
    "\\end{align*}\n",
    "$$\n",
    "For each graduate $i$."
   ]
  },
  {
   "cell_type": "markdown",
   "metadata": {},
   "source": [
    "We start by initialising zero-arrays to store the results following the procedure laid out by point 1-3 above. To find the shares, we sum over the elements where the chosen career is 1,2 and 3 respectively to find the total number. Similarily, to find the averages we sum over the elements for every type i."
   ]
  },
  {
   "cell_type": "code",
   "execution_count": null,
   "metadata": {},
   "outputs": [],
   "source": [
    "# initialize arrays\n",
    "prior_u = np.zeros((par.N,par.J, par.K))\n",
    "realized_u = np.zeros((par.N, par.J,par.K))\n",
    "\n",
    "chosen_career = np.zeros((par.N,par.K))\n",
    "prior_u_chosen_career = np.zeros((par.N,par.K))\n",
    "realized_u_chosen_career = np.zeros((par.N,par.K))\n",
    "\n",
    "#loop over different graduate types K times\n",
    "for k in range(1,par.K+1):\n",
    "    for i in range(1,par.N+1):\n",
    "        \n",
    "        # draw friends noise term and calculate prior expected utility\n",
    "        friend_draws = np.random.normal(loc=0,scale=par.sigma,size=(i,par.J))\n",
    "        prior_u[i-1,:,k-1] = par.v+1/i*np.sum(friend_draws, axis=0)\n",
    "        \n",
    "        # draw graduate's own noise term and culculate realized utility\n",
    "        realized_u[i-1,:,k-1] = par.v+np.random.normal(loc=0,scale=par.sigma,size=(1,par.J))\n",
    "\n",
    "        # find chosen career and corresponding prior expected utility and realized utility\n",
    "        chosen_career[i-1,k-1] = np.argmax(prior_u[i-1,:,k-1])+1\n",
    "        prior_u_chosen_career[i-1,k-1] = prior_u[i-1,int(chosen_career[i-1,k-1]-1),k-1]\n",
    "        realized_u_chosen_career[i-1,k-1] = realized_u[i-1,int(chosen_career[i-1,k-1]-1),k-1]\n",
    "    \n"
   ]
  },
  {
   "cell_type": "code",
   "execution_count": null,
   "metadata": {},
   "outputs": [],
   "source": [
    "# initialise array for shares\n",
    "job_share = np.zeros((par.N,par.J))\n",
    "\n",
    "# calculate shares\n",
    "for i in range(1,par.N+1):\n",
    "    job_share[i-1,0] = sum(chosen_career[i-1,:]==1)\n",
    "    job_share[i-1,1] = sum(chosen_career[i-1,:]==2)\n",
    "    job_share[i-1,2] = sum(chosen_career[i-1,:]==3)\n",
    "\n",
    "job_share *= 1/par.K\n",
    "\n",
    "# prior expected utility of chosen career\n",
    "prior_chosen_avg = 1/par.K*np.sum(prior_u_chosen_career, axis=1)\n",
    "realized_chosen_avg = 1/par.K*np.sum(realized_u_chosen_career, axis=1)\n"
   ]
  },
  {
   "cell_type": "code",
   "execution_count": null,
   "metadata": {},
   "outputs": [],
   "source": [
    "## this code bit was written with help from https://chatgpt.com/\n",
    "\n",
    "# set the positions and width for the bars\n",
    "index = np.arange(10) + 1\n",
    "bar_width = 0.35\n",
    "\n",
    "# create the figure and axes\n",
    "fig = plt.figure()\n",
    "ax = fig.add_subplot(1,1,1)\n",
    "\n",
    "# plot the bars\n",
    "bar1 = ax.bar(index, prior_chosen_avg, bar_width, label='Prior', color='blue')\n",
    "bar2 = ax.bar(index + bar_width, realized_chosen_avg, bar_width,  label='Realized', color='red')\n",
    "\n",
    "ax.set_ylim(2.0,4);\n",
    "ax.set_xlabel('Graduate type i')\n",
    "ax.set_ylabel('Average utility')\n",
    "ax.set_xticks(index)\n",
    "ax.legend()"
   ]
  },
  {
   "cell_type": "code",
   "execution_count": null,
   "metadata": {},
   "outputs": [],
   "source": [
    "## this code bit was written with help from https://chatgpt.com/\n",
    "# number of groups\n",
    "n_groups = 10\n",
    "\n",
    "# set the positions for the bars\n",
    "index = np.arange(n_groups)\n",
    "bar_width = 0.35\n",
    "\n",
    "# Create the figure and axes\n",
    "fig = plt.figure()\n",
    "ax = fig.add_subplot(1, 1, 1)\n",
    "\n",
    "# Plot the bars\n",
    "bar1 = ax.bar(index, job_share[:,0], bar_width, label='Career 1', color='blue')\n",
    "bar2 = ax.bar(index, job_share [:,1], bar_width, bottom=job_share[:,0], label='Career 2', color='green')\n",
    "bar3 = ax.bar(index, job_share[:,2], bar_width, bottom=job_share[:,0] + job_share[:,1], label='Career 3', color='red')\n",
    "\n",
    "# Add labels, title, and legend\n",
    "ax.set_xlabel('Graduate type i')\n",
    "ax.set_ylabel('Shares')\n",
    "ax.set_xticks(index)\n",
    "ax.legend()\n"
   ]
  },
  {
   "cell_type": "markdown",
   "metadata": {},
   "source": [
    "From this we can see that when the graduate has more friends in each career, they icreasinlgy choose career 3 and their expected utiltity will approximate their realized utility. This is what we would expect from the law of large numbers."
   ]
  },
  {
   "cell_type": "markdown",
   "metadata": {},
   "source": [
    "After a year of working in their career, the graduates learn $u^k_{ij}$ for their chosen job $j_i^{k*}$ perfectly. <br>\n",
    "The can switch to one of the two remaining careers, for which they have the same prior as before, but it will now include a switching cost of $c$ which is known.\n",
    "Their new priors can be written as: \n",
    "$$\n",
    "\\tilde{u}^{k,2}_{ij}\\left( F_{i}\\right) = \\begin{cases}\n",
    "            \\tilde{u}^k_{ij}\\left( F_{i}\\right)-c & \\text{if } j \\neq j_i^{k*} \\\\\n",
    "            u_{ij=j_i^{k*}} & \\text{if } j = j_i^{k*}\n",
    "        \\end{cases}\n",
    "$$"
   ]
  },
  {
   "cell_type": "markdown",
   "metadata": {},
   "source": [
    "We will set $c=1$."
   ]
  },
  {
   "cell_type": "markdown",
   "metadata": {},
   "source": [
    "Their realized utility will be: <br>\n",
    "$$\n",
    "u^{k,2}_{ij}= \\begin{cases}\n",
    "            u_{ij}^k -c & \\text{if } j \\neq j_i^{k*} \\\\\n",
    "            u_{ij=j_i^{k*}} & \\text{if } j = j_i^{k*}\n",
    "        \\end{cases}\n",
    "$$"
   ]
  },
  {
   "cell_type": "markdown",
   "metadata": {},
   "source": [
    "**Question 3:** Following the same approach as in question 2, find the new optimal career choice for each $i$, $k$. Then for each $i$, calculate the average subjective expected utility from their new optimal career choice, and the ex post realized utility of that career. Also, for each $i$, calculate the share of graduates that chooses to switch careers, conditional on which career they chose in the first year. <br>"
   ]
  },
  {
   "cell_type": "code",
   "execution_count": null,
   "metadata": {},
   "outputs": [],
   "source": [
    "# write your answer here\n",
    "\n",
    "# Add switching cost\n",
    "c = 1\n",
    "# Add switching cost\n",
    "prior_u_switch = prior_u - c\n",
    "\n",
    "# Init variables\n",
    "chosen_career_switch = np.zeros((par.N,par.K))\n",
    "prior_u_chosen_career_switch = np.zeros((par.N,par.K))\n",
    "realized_u_chosen_career_switch = np.zeros((par.N,par.K))\n",
    "switch_share = np.zeros((par.N, par.J))\n",
    "\n",
    "for k in range(1,par.K+1):\n",
    "    for i in range(1,par.N+1):\n",
    "       # Update prior to relized utility for the chosen job only\n",
    "       prior_u_switch[i-1,int(chosen_career[i-1,k-1]-1),k-1] = realized_u_chosen_career[i-1,k-1]\n",
    "\n",
    "       # Find the chosen career\n",
    "       chosen_career_switch[i-1,k-1] = np.argmax(prior_u_switch[i-1,:,k-1])+1\n",
    "       prior_u_chosen_career_switch[i-1,k-1] = prior_u[i-1,int(chosen_career_switch[i-1,k-1]-1),k-1]\n",
    "       realized_u_chosen_career_switch[i-1,k-1] = realized_u[i-1,int(chosen_career_switch[i-1,k-1]-1),k-1]\n",
    "\n",
    "       # Save how many switch\n",
    "       #chosen_career_switch[i-1,k-1] != chosen_career[i-1,k-1]\n",
    "\n"
   ]
  },
  {
   "cell_type": "code",
   "execution_count": null,
   "metadata": {},
   "outputs": [],
   "source": [
    "# Computed average utility\n",
    "# prior expected utility of chosen career\n",
    "prior_chosen_avg_switch = 1/par.K*np.sum(prior_u_chosen_career_switch, axis=1)\n",
    "realized_chosen_avg_switch = 1/par.K*np.sum(realized_u_chosen_career_switch, axis=1)\n",
    "\n",
    "\n",
    "# Find when switches occur\n",
    "switch = np.zeros((par.N, par.J))\n",
    "for i in range(1,par.N+1):\n",
    "    changes = chosen_career[i-1,chosen_career_switch[i-1,:] != chosen_career[i-1,:]]\n",
    "    switch[i-1,:] = np.array([sum(changes==1), sum(changes==2), sum(changes==3)])\n",
    "\n",
    "# Normalize with graduates who choose a given career   \n",
    "switch = switch/(job_share*par.K)\n",
    "\n"
   ]
  },
  {
   "cell_type": "code",
   "execution_count": null,
   "metadata": {},
   "outputs": [],
   "source": [
    "## this code bit was written with help from https://chatgpt.com/\n",
    "\n",
    "# set the positions and width for the bars\n",
    "index = np.arange(10) + 1\n",
    "bar_width = 0.35\n",
    "\n",
    "# create the figure and axes\n",
    "fig = plt.figure()\n",
    "ax = fig.add_subplot(1,1,1)\n",
    "\n",
    "# plot the bars\n",
    "bar1 = ax.bar(index, prior_chosen_avg_switch, bar_width, label='Prior', color='blue')\n",
    "bar2 = ax.bar(index + bar_width, realized_chosen_avg_switch, bar_width,  label='Realized', color='red')\n",
    "\n",
    "ax.set_ylim(2.8,3.5);\n",
    "ax.set_xlabel('Graduate type i')\n",
    "ax.set_ylabel('Average utility after one year')\n",
    "ax.set_xticks(index)\n",
    "ax.legend()"
   ]
  },
  {
   "cell_type": "code",
   "execution_count": null,
   "metadata": {},
   "outputs": [],
   "source": [
    "## this code bit was written with help from https://chatgpt.com/\n",
    "# number of groups\n",
    "n_groups = 10\n",
    "\n",
    "# set the positions for the bars\n",
    "index = np.arange(n_groups) * 1.5\n",
    "bar_width = 0.35\n",
    "\n",
    "# Create the figure and axes\n",
    "fig = plt.figure()\n",
    "ax = fig.add_subplot(1, 1, 1)\n",
    "\n",
    "# Plot the bars\n",
    "bar1 = ax.bar(index, switch[:,0], bar_width, label='Career 1', color='blue')\n",
    "bar2 = ax.bar(index + bar_width, switch[:,1], bar_width, label='Career 2', color='green')\n",
    "bar3 = ax.bar(index + 2*bar_width, switch[:,2], bar_width, label='Career 3', color='red')\n",
    "\n",
    "# Add labels, title, and legend\n",
    "ax.set_ylim(0,0.6);\n",
    "ax.set_xlabel('Graduate type i')\n",
    "ax.set_ylabel('Share')\n",
    "ax.set_title('Share of graduates that switch careers, conditional on career in the first year.')\n",
    "ax.set_xticks(index + bar_width)\n",
    "ax.set_xticklabels([str(i + 1) for i in range(n_groups)])\n",
    "ax.legend()"
   ]
  },
  {
   "cell_type": "markdown",
   "metadata": {},
   "source": [
    "## 3. <a id='toc3_'></a>[Problem 3: Barycentric interpolation](#toc0_)"
   ]
  },
  {
   "cell_type": "markdown",
   "metadata": {},
   "source": [
    "**Problem:** We have a set of random points in the unit square,\n",
    "\n",
    "$$\n",
    "\\mathcal{X} = \\{(x_1,x_2)\\,|\\,x_1\\sim\\mathcal{U}(0,1),x_2\\sim\\mathcal{U}(0,1)\\}.\n",
    "$$\n",
    "\n",
    "For these points, we know the value of some function $f(x_1,x_2)$,\n",
    "\n",
    "$$\n",
    "\\mathcal{F} = \\{f(x_1,x_2) \\,|\\, (x_1,x_2) \\in \\mathcal{X}\\}.\n",
    "$$\n",
    "\n",
    "Now we want to approximate the value $f(y_1,y_2)$ for some  $y=(y_1,y_2)$, where $y_1\\sim\\mathcal{U}(0,1)$ and $y_2\\sim\\mathcal{U}(0,1)$.\n",
    "\n",
    "**Building block I**\n",
    "\n",
    "For an arbitrary triangle $ABC$ and a point $y$, define the so-called barycentric coordinates as:\n",
    "\n",
    "$$\n",
    "\\begin{align*}\n",
    "  r^{ABC}_1 &= \\frac{(B_2-C_2)(y_1-C_1) + (C_1-B_1)(y_2-C_2)}{(B_2-C_2)(A_1-C_1) + (C_1-B_1)(A_2-C_2)} \\\\\n",
    "  r^{ABC}_2 &= \\frac{(C_2-A_2)(y_1-C_1) + (A_1-C_1)(y_2-C_2)}{(B_2-C_2)(A_1-C_1) + (C_1-B_1)(A_2-C_2)} \\\\\n",
    "  r^{ABC}_3 &= 1 - r_1 - r_2.\n",
    "\\end{align*}\n",
    "$$\n",
    "\n",
    "If $r^{ABC}_1 \\in [0,1]$, $r^{ABC}_2 \\in [0,1]$, and $r^{ABC}_3 \\in [0,1]$, then the point is inside the triangle.\n",
    "\n",
    "We always have $y = r^{ABC}_1 A + r^{ABC}_2 B + r^{ABC}_3 C$.\n",
    "\n",
    "**Building block II**\n",
    "\n",
    "Define the following points:\n",
    "\n",
    "$$\n",
    "\\begin{align*}\n",
    "A&=\\arg\\min_{(x_{1},x_{2})\\in\\mathcal{X}}\\sqrt{\\left(x_{1}-y_{1}\\right)^{2}+\\left(x_{2}-y_{2}\\right)^{2}}\\text{ s.t. }x_{1}>y_{1}\\text{ and }x_{2}>y_{2}\\\\\n",
    "B&=\\arg\\min_{(x_{1},x_{2})\\in\\mathcal{X}}\\sqrt{\\left(x_{1}-y_{1}\\right)^{2}+\\left(x_{2}-y_{2}\\right)^{2}}\\text{ s.t. }x_{1}>y_{1}\\text{ and }x_{2}<y_{2}\\\\\n",
    "C&=\\arg\\min_{(x_{1},x_{2})\\in\\mathcal{X}}\\sqrt{\\left(x_{1}-y_{1}\\right)^{2}+\\left(x_{2}-y_{2}\\right)^{2}}\\text{ s.t. }x_{1}<y_{1}\\text{ and }x_{2}<y_{2}\\\\\n",
    "D&=\\arg\\min_{(x_{1},x_{2})\\in\\mathcal{X}}\\sqrt{\\left(x_{1}-y_{1}\\right)^{2}+\\left(x_{2}-y_{2}\\right)^{2}}\\text{ s.t. }x_{1}<y_{1}\\text{ and }x_{2}>y_{2}.\n",
    "\\end{align*}\n",
    "$$\n",
    "\n",
    "**Algorithm:**\n",
    "\n",
    "1. Compute $A$, $B$, $C$, and $D$. If not possible return `NaN`.\n",
    "1. If $y$ is inside the triangle $ABC$ return $r^{ABC}_1 f(A) + r^{ABC}_2 f(B) + r^{ABC}_3 f(C)$.\n",
    "1. If $y$ is inside the triangle $CDA$ return $r^{CDA}_1 f(C) + r^{CDA}_2 f(D) + r^{CDA}_3 f(A)$.\n",
    "1. Return `NaN`.\n",
    "\n"
   ]
  },
  {
   "cell_type": "markdown",
   "metadata": {},
   "source": [
    "**Sample:**"
   ]
  },
  {
   "cell_type": "code",
   "execution_count": null,
   "metadata": {},
   "outputs": [],
   "source": [
    "rng = np.random.default_rng(2024)\n",
    "\n",
    "X = rng.uniform(size=(50,2))\n",
    "y = rng.uniform(size=(2,))\n",
    "\n",
    "\n"
   ]
  },
  {
   "cell_type": "markdown",
   "metadata": {},
   "source": [
    "**Questions 1:** Find $A$, $B$, $C$ and $D$. Illustrate these together with $X$, $y$ and the triangles $ABC$ and $CDA$."
   ]
  },
  {
   "cell_type": "code",
   "execution_count": null,
   "metadata": {},
   "outputs": [],
   "source": [
    "# write your answer here\n",
    "\n",
    "# Computes ABCD based in X and Y coordinates\n",
    "def get_ABCD(X, Y):\n",
    "\n",
    "    # To hold minimum value for point A B C and D\n",
    "    A_dist = np.inf\n",
    "    B_dist = np.inf\n",
    "    C_dist = np.inf\n",
    "    D_dist = np.inf\n",
    "\n",
    "    # Init A B C and D\n",
    "    A = np.array([np.nan,np.nan])\n",
    "    B = np.array([np.nan,np.nan])\n",
    "    C = np.array([np.nan,np.nan])\n",
    "    D = np.array([np.nan,np.nan])\n",
    "\n",
    "    # Find minimum value in X\n",
    "    for x in X:\n",
    "        temp = np.sqrt( np.power(x[0]-Y[0],2) + np.power(x[1]-Y[1],2) )\n",
    "        if (x[0]>Y[0] and x[1]>Y[1]):\n",
    "            if(temp < A_dist):\n",
    "                A_dist = temp\n",
    "                A = np.array([x[0],x[1]])\n",
    "        elif (x[0]>Y[0] and x[1]<Y[1]):\n",
    "            if(temp < B_dist):\n",
    "                B_dist = temp\n",
    "                B = np.array([x[0],x[1]])\n",
    "        elif (x[0]<Y[0] and x[1]<Y[1]):\n",
    "            if(temp < C_dist):\n",
    "                C_dist = temp\n",
    "                C = np.array([x[0],x[1]])\n",
    "        elif (x[0]<Y[0] and x[1]>Y[1]):\n",
    "            if(temp < D_dist):\n",
    "                D_dist = temp\n",
    "                D = np.array([x[0],x[1]])\n",
    "\n",
    "\n",
    "    return [A,B,C,D]\n",
    "\n",
    "def plot_Triangle(ax, A, B, C, colors, labels):\n",
    "    ax.plot([A[0],B[0]],[A[1],B[1]], color=colors, label=labels)\n",
    "    ax.plot([B[0],C[0]],[B[1],C[1]], color=colors)\n",
    "    ax.plot([C[0],A[0]],[C[1],A[1]], color=colors)\n",
    "\n",
    "    return\n",
    "\n",
    "\n",
    "A,B,C,D = get_ABCD(X, y)\n",
    "\n",
    "fig = plt.figure()\n",
    "ax = fig.add_subplot(1, 1, 1)\n",
    "ax.scatter(X[:,0],X[:,1], label='X')\n",
    "ax.scatter(y[0],y[1], label='y')\n",
    "# Triangle ABC\n",
    "plot_Triangle(ax, A,B,C,\"red\", 'ABC')\n",
    "# Triangle CDA\n",
    "plot_Triangle(ax, C,D,A,\"green\", 'CDA')\n",
    "ax.legend()\n",
    "\n"
   ]
  },
  {
   "cell_type": "markdown",
   "metadata": {},
   "source": [
    "**Question 2:** Compute the barycentric coordinates of the point $y$ with respect to the triangles $ABC$ and $CDA$. Which triangle is $y$ located inside?"
   ]
  },
  {
   "cell_type": "code",
   "execution_count": null,
   "metadata": {},
   "outputs": [],
   "source": [
    "# write your answer here\n",
    "\n",
    "# Compute barycentric coordinate\n",
    "def barycentric_coor(A,B,C, y):\n",
    "\n",
    "    r1_num = (B[1]-C[1])*(y[0]-C[0])+(C[0]-B[0])*(y[1]-C[1])\n",
    "    r1_denum = (B[1]-C[1])*(A[0]-C[0])+(C[0]-B[0])*(A[1]-C[1])\n",
    "    r1 = r1_num/r1_denum\n",
    "\n",
    "    r2_num = (C[1]-A[1])*(y[0]-C[0])+(A[0]-C[0])*(y[1]-C[1])\n",
    "    r2_denum = r1_denum\n",
    "    r2 = r2_num/r2_denum\n",
    "\n",
    "    r3 = 1-r1-r2\n",
    "\n",
    "    return [r1,r2,r3]\n",
    "\n",
    "# Chekc if inside triangle\n",
    "def inside_triangle(r):\n",
    "    if(r[0]<=1 and r[0]>=0 and r[1]<=1 and r[1]>=0 and r[2]<=1 and r[2]>=0):\n",
    "        return True\n",
    "    else:\n",
    "        return False\n",
    "\n",
    "# Compute coordinates\n",
    "r_ABC = barycentric_coor(A,B,C,y)\n",
    "r_CDA = barycentric_coor(C,D,A,y)\n",
    "# Check if inside\n",
    "\n",
    "print(\"y is inside ABC: \" + str(inside_triangle(r_ABC)))\n",
    "print(\"y is inside CDA: \" + str(inside_triangle(r_CDA)))\n",
    "\n",
    "\n",
    "\n",
    "\n"
   ]
  },
  {
   "cell_type": "markdown",
   "metadata": {},
   "source": [
    "Now consider the function:\n",
    "$$\n",
    "f(x_1,x_2) = x_1 \\cdot x_2\n",
    "$$"
   ]
  },
  {
   "cell_type": "code",
   "execution_count": null,
   "metadata": {},
   "outputs": [],
   "source": [
    "f = lambda x: x[0]*x[1]\n",
    "F = np.array([f(x) for x in X])"
   ]
  },
  {
   "cell_type": "markdown",
   "metadata": {},
   "source": [
    "**Question 3:** Compute the approximation of $f(y)$ using the full algorithm. Compare with the true value."
   ]
  },
  {
   "cell_type": "code",
   "execution_count": null,
   "metadata": {},
   "outputs": [],
   "source": [
    "# write your answer here\n",
    "def barycentric_inter(X, y, f):\n",
    "\n",
    "    # Compute triangles\n",
    "    A,B,C,D = get_ABCD(X, y)\n",
    "\n",
    "    # Find coordinates\n",
    "    r_ABC = barycentric_coor(A,B,C,y)\n",
    "    r_CDA = barycentric_coor(C,D,A,y)  \n",
    "\n",
    "    # return function value based on if y is in triangle\n",
    "    if(inside_triangle(r_ABC)):\n",
    "        return r_ABC[0]*f(A)+r_ABC[1]*f(B)+r_ABC[2]*f(C)\n",
    "    elif(inside_triangle(r_CDA)):\n",
    "        return r_CDA[0]*f(C)+r_CDA[1]*f(D)+r_CDA[2]*f(A)\n",
    "\n",
    "    return np.nan \n",
    "\n",
    "\n",
    "\n",
    "func_estimate = barycentric_inter(X,y,f)\n",
    "print(f\"Function gives: {f(y):.3f} and estimate is: {func_estimate:.3f}\")\n"
   ]
  },
  {
   "cell_type": "markdown",
   "metadata": {},
   "source": [
    "**Question 4:** Repeat question 3 for all points in the set $Y$."
   ]
  },
  {
   "cell_type": "code",
   "execution_count": null,
   "metadata": {},
   "outputs": [],
   "source": [
    "Y = [(0.2,0.2),(0.8,0.2),(0.8,0.8),(0.8,0.2),(0.5,0.5)]"
   ]
  },
  {
   "cell_type": "code",
   "execution_count": null,
   "metadata": {},
   "outputs": [],
   "source": [
    "# write your answer here\n",
    "\n",
    "# We loop over y\n",
    "for y in Y:\n",
    "    func_estimate = barycentric_inter(X,y,f)\n",
    "    print(f\"Function gives: {f(y):.3f} and estimate is: {func_estimate:.3f}\")"
   ]
  },
  {
   "cell_type": "markdown",
   "metadata": {},
   "source": [
    "The third point in Y returns nan, since it is not surrounded by four x in X, that constitute a square enclosing y."
   ]
  }
 ],
 "metadata": {
  "kernelspec": {
   "display_name": "base",
   "language": "python",
   "name": "python3"
  },
  "language_info": {
   "codemirror_mode": {
    "name": "ipython",
    "version": 3
   },
   "file_extension": ".py",
   "mimetype": "text/x-python",
   "name": "python",
   "nbconvert_exporter": "python",
   "pygments_lexer": "ipython3",
   "version": "3.11.7"
  }
 },
 "nbformat": 4,
 "nbformat_minor": 2
}
